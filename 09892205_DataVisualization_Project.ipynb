{
 "cells": [
  {
   "cell_type": "code",
   "execution_count": 1,
   "id": "74b967ff",
   "metadata": {},
   "outputs": [],
   "source": [
    "import pandas as pd\n",
    "import numpy as np\n",
    "import matplotlib.pyplot as plt\n",
    "import seaborn as sns\n",
    "from pyecharts.charts import Liquid\n",
    "from pyecharts import options as opts"
   ]
  },
  {
   "cell_type": "code",
   "execution_count": 2,
   "id": "1ec41dcc",
   "metadata": {},
   "outputs": [],
   "source": [
    "usedcars = pd.read_csv(\"UserCarData.csv\")"
   ]
  },
  {
   "cell_type": "code",
   "execution_count": 3,
   "id": "92ffcac3",
   "metadata": {},
   "outputs": [
    {
     "data": {
      "text/html": [
       "<div>\n",
       "<style scoped>\n",
       "    .dataframe tbody tr th:only-of-type {\n",
       "        vertical-align: middle;\n",
       "    }\n",
       "\n",
       "    .dataframe tbody tr th {\n",
       "        vertical-align: top;\n",
       "    }\n",
       "\n",
       "    .dataframe thead th {\n",
       "        text-align: right;\n",
       "    }\n",
       "</style>\n",
       "<table border=\"1\" class=\"dataframe\">\n",
       "  <thead>\n",
       "    <tr style=\"text-align: right;\">\n",
       "      <th></th>\n",
       "      <th>Sales_ID</th>\n",
       "      <th>name</th>\n",
       "      <th>year</th>\n",
       "      <th>selling_price</th>\n",
       "      <th>km_driven</th>\n",
       "      <th>Region</th>\n",
       "      <th>State or Province</th>\n",
       "      <th>City</th>\n",
       "      <th>fuel</th>\n",
       "      <th>seller_type</th>\n",
       "      <th>transmission</th>\n",
       "      <th>owner</th>\n",
       "      <th>mileage</th>\n",
       "      <th>engine</th>\n",
       "      <th>max_power</th>\n",
       "      <th>torque</th>\n",
       "      <th>seats</th>\n",
       "      <th>sold</th>\n",
       "    </tr>\n",
       "  </thead>\n",
       "  <tbody>\n",
       "    <tr>\n",
       "      <th>0</th>\n",
       "      <td>1</td>\n",
       "      <td>Maruti</td>\n",
       "      <td>2014</td>\n",
       "      <td>450000</td>\n",
       "      <td>145500</td>\n",
       "      <td>East</td>\n",
       "      <td>District of Columbia</td>\n",
       "      <td>Washington</td>\n",
       "      <td>Diesel</td>\n",
       "      <td>Individual</td>\n",
       "      <td>Manual</td>\n",
       "      <td>First_Owner</td>\n",
       "      <td>23.40</td>\n",
       "      <td>1248</td>\n",
       "      <td>74.00</td>\n",
       "      <td>190Nm@ 2000rpm</td>\n",
       "      <td>5</td>\n",
       "      <td>Y</td>\n",
       "    </tr>\n",
       "    <tr>\n",
       "      <th>1</th>\n",
       "      <td>2</td>\n",
       "      <td>Skoda</td>\n",
       "      <td>2014</td>\n",
       "      <td>370000</td>\n",
       "      <td>120000</td>\n",
       "      <td>East</td>\n",
       "      <td>New York</td>\n",
       "      <td>New York City</td>\n",
       "      <td>Diesel</td>\n",
       "      <td>Individual</td>\n",
       "      <td>Manual</td>\n",
       "      <td>Second_Owner</td>\n",
       "      <td>21.14</td>\n",
       "      <td>1498</td>\n",
       "      <td>103.52</td>\n",
       "      <td>250Nm@ 1500-2500rpm</td>\n",
       "      <td>5</td>\n",
       "      <td>Y</td>\n",
       "    </tr>\n",
       "    <tr>\n",
       "      <th>2</th>\n",
       "      <td>3</td>\n",
       "      <td>Honda</td>\n",
       "      <td>2006</td>\n",
       "      <td>158000</td>\n",
       "      <td>140000</td>\n",
       "      <td>Central</td>\n",
       "      <td>Illinois</td>\n",
       "      <td>Chicago</td>\n",
       "      <td>Petrol</td>\n",
       "      <td>Individual</td>\n",
       "      <td>Manual</td>\n",
       "      <td>Third_Owner</td>\n",
       "      <td>17.70</td>\n",
       "      <td>1497</td>\n",
       "      <td>78.00</td>\n",
       "      <td>12.7@ 2,700(kgm@ rpm)</td>\n",
       "      <td>5</td>\n",
       "      <td>Y</td>\n",
       "    </tr>\n",
       "    <tr>\n",
       "      <th>3</th>\n",
       "      <td>4</td>\n",
       "      <td>Hyundai</td>\n",
       "      <td>2010</td>\n",
       "      <td>225000</td>\n",
       "      <td>127000</td>\n",
       "      <td>Central</td>\n",
       "      <td>Illinois</td>\n",
       "      <td>Chicago</td>\n",
       "      <td>Diesel</td>\n",
       "      <td>Individual</td>\n",
       "      <td>Manual</td>\n",
       "      <td>First_Owner</td>\n",
       "      <td>23.00</td>\n",
       "      <td>1396</td>\n",
       "      <td>90.00</td>\n",
       "      <td>22.4 kgm at 1750-2750rpm</td>\n",
       "      <td>5</td>\n",
       "      <td>Y</td>\n",
       "    </tr>\n",
       "    <tr>\n",
       "      <th>4</th>\n",
       "      <td>5</td>\n",
       "      <td>Maruti</td>\n",
       "      <td>2007</td>\n",
       "      <td>130000</td>\n",
       "      <td>120000</td>\n",
       "      <td>East</td>\n",
       "      <td>New York</td>\n",
       "      <td>New York City</td>\n",
       "      <td>Petrol</td>\n",
       "      <td>Individual</td>\n",
       "      <td>Manual</td>\n",
       "      <td>First_Owner</td>\n",
       "      <td>16.10</td>\n",
       "      <td>1298</td>\n",
       "      <td>88.20</td>\n",
       "      <td>11.5@ 4,500(kgm@ rpm)</td>\n",
       "      <td>5</td>\n",
       "      <td>Y</td>\n",
       "    </tr>\n",
       "  </tbody>\n",
       "</table>\n",
       "</div>"
      ],
      "text/plain": [
       "   Sales_ID     name  year  selling_price  km_driven   Region  \\\n",
       "0         1   Maruti  2014         450000     145500     East   \n",
       "1         2    Skoda  2014         370000     120000     East   \n",
       "2         3    Honda  2006         158000     140000  Central   \n",
       "3         4  Hyundai  2010         225000     127000  Central   \n",
       "4         5   Maruti  2007         130000     120000     East   \n",
       "\n",
       "      State or Province           City    fuel seller_type transmission  \\\n",
       "0  District of Columbia     Washington  Diesel  Individual       Manual   \n",
       "1              New York  New York City  Diesel  Individual       Manual   \n",
       "2              Illinois        Chicago  Petrol  Individual       Manual   \n",
       "3              Illinois        Chicago  Diesel  Individual       Manual   \n",
       "4              New York  New York City  Petrol  Individual       Manual   \n",
       "\n",
       "          owner  mileage  engine  max_power                    torque  seats  \\\n",
       "0   First_Owner    23.40    1248      74.00            190Nm@ 2000rpm      5   \n",
       "1  Second_Owner    21.14    1498     103.52       250Nm@ 1500-2500rpm      5   \n",
       "2   Third_Owner    17.70    1497      78.00     12.7@ 2,700(kgm@ rpm)      5   \n",
       "3   First_Owner    23.00    1396      90.00  22.4 kgm at 1750-2750rpm      5   \n",
       "4   First_Owner    16.10    1298      88.20     11.5@ 4,500(kgm@ rpm)      5   \n",
       "\n",
       "  sold  \n",
       "0    Y  \n",
       "1    Y  \n",
       "2    Y  \n",
       "3    Y  \n",
       "4    Y  "
      ]
     },
     "execution_count": 3,
     "metadata": {},
     "output_type": "execute_result"
    }
   ],
   "source": [
    "usedcars.head()"
   ]
  },
  {
   "cell_type": "code",
   "execution_count": 4,
   "id": "8ce466e3",
   "metadata": {},
   "outputs": [],
   "source": [
    "usedcarsval = usedcars[['year','selling_price','km_driven','mileage','engine','max_power','seats']]"
   ]
  },
  {
   "cell_type": "code",
   "execution_count": 5,
   "id": "1bca4215",
   "metadata": {},
   "outputs": [
    {
     "data": {
      "text/plain": [
       "Sales_ID               int64\n",
       "name                  object\n",
       "year                   int64\n",
       "selling_price          int64\n",
       "km_driven              int64\n",
       "Region                object\n",
       "State or Province     object\n",
       "City                  object\n",
       "fuel                  object\n",
       "seller_type           object\n",
       "transmission          object\n",
       "owner                 object\n",
       "mileage              float64\n",
       "engine                 int64\n",
       "max_power            float64\n",
       "torque                object\n",
       "seats                  int64\n",
       "sold                  object\n",
       "dtype: object"
      ]
     },
     "execution_count": 5,
     "metadata": {},
     "output_type": "execute_result"
    }
   ],
   "source": [
    "usedcars.dtypes"
   ]
  },
  {
   "cell_type": "code",
   "execution_count": 6,
   "id": "493542d1",
   "metadata": {
    "scrolled": true
   },
   "outputs": [
    {
     "data": {
      "text/plain": [
       "<AxesSubplot:title={'center':'Bar Chart'}, xlabel='Type of sellers', ylabel='Amount'>"
      ]
     },
     "execution_count": 6,
     "metadata": {},
     "output_type": "execute_result"
    },
    {
     "data": {
      "image/png": "[encoded data removed]",
      "text/plain": [
       "<Figure size 432x288 with 1 Axes>"
      ]
     },
     "metadata": {
      "needs_background": "light"
     },
     "output_type": "display_data"
    }
   ],
   "source": [
    "usedcars[\"seller_type\"].value_counts().plot(kind = 'bar',xlabel='Type of sellers', ylabel='Amount', rot=0,color = [\"r\",\"b\",\"g\"],title = \"Bar Chart\")"
   ]
  },
  {
   "cell_type": "code",
   "execution_count": 7,
   "id": "c6635b64",
   "metadata": {
    "scrolled": true
   },
   "outputs": [
    {
     "data": {
      "image/png": "[encoded data removed]",
      "text/plain": [
       "<Figure size 432x288 with 1 Axes>"
      ]
     },
     "metadata": {
      "needs_background": "light"
     },
     "output_type": "display_data"
    }
   ],
   "source": [
    "plt.scatter(usedcars[\"year\"],usedcars[\"selling_price\"],marker='.')\n",
    "plt.xlabel(\"Year(When purchased)\")\n",
    "plt.ylabel(\"Selling Price(*10000000)\")\n",
    "plt.show()"
   ]
  },
  {
   "cell_type": "code",
   "execution_count": 8,
   "id": "dfcf4cde",
   "metadata": {},
   "outputs": [
    {
     "data": {
      "text/plain": [
       "<bound method Series.keys of 0       450000\n",
       "1       370000\n",
       "2       158000\n",
       "3       225000\n",
       "4       130000\n",
       "         ...  \n",
       "7901    320000\n",
       "7902    135000\n",
       "7903    382000\n",
       "7904    290000\n",
       "7905    290000\n",
       "Name: selling_price, Length: 7906, dtype: int64>"
      ]
     },
     "execution_count": 8,
     "metadata": {},
     "output_type": "execute_result"
    }
   ],
   "source": [
    "usedcars[\"selling_price\"].keys"
   ]
  },
  {
   "cell_type": "code",
   "execution_count": 9,
   "id": "e27b395f",
   "metadata": {
    "scrolled": true
   },
   "outputs": [
    {
     "data": {
      "text/plain": [
       "[<matplotlib.lines.Line2D at 0x23b17c7ed90>]"
      ]
     },
     "execution_count": 9,
     "metadata": {},
     "output_type": "execute_result"
    },
    {
     "data": {
      "image/png": "[encoded data removed]",
      "text/plain": [
       "<Figure size 432x288 with 1 Axes>"
      ]
     },
     "metadata": {
      "needs_background": "light"
     },
     "output_type": "display_data"
    }
   ],
   "source": [
    "sellingpricemileage = usedcars[[\"year\",\"mileage\"]]\n",
    "Y = sellingpricemileage.sort_values(by=\"year\",ascending=True)\n",
    "plt.title(\"Line Plot\")\n",
    "# Y.set_index(\"selling_price\")\n",
    "plt.plot(Y['year'],Y['mileage'])"
   ]
  },
  {
   "cell_type": "code",
   "execution_count": 10,
   "id": "3705c51a",
   "metadata": {},
   "outputs": [
    {
     "data": {
      "text/plain": [
       "<matplotlib.collections.PolyCollection at 0x23b18095f10>"
      ]
     },
     "execution_count": 10,
     "metadata": {},
     "output_type": "execute_result"
    },
    {
     "data": {
      "image/png": "[encoded data removed]",
      "text/plain": [
       "<Figure size 432x288 with 1 Axes>"
      ]
     },
     "metadata": {
      "needs_background": "light"
     },
     "output_type": "display_data"
    }
   ],
   "source": [
    "plt.hexbin(usedcars['max_power'],usedcars['engine'],gridsize = 50, cmap ='Greens')"
   ]
  },
  {
   "cell_type": "code",
   "execution_count": 11,
   "id": "9a960379",
   "metadata": {},
   "outputs": [
    {
     "data": {
      "text/plain": [
       "{'whiskers': [<matplotlib.lines.Line2D at 0x23b181173a0>,\n",
       "  <matplotlib.lines.Line2D at 0x23b18117670>],\n",
       " 'caps': [<matplotlib.lines.Line2D at 0x23b18117940>,\n",
       "  <matplotlib.lines.Line2D at 0x23b18117c10>],\n",
       " 'boxes': [<matplotlib.lines.Line2D at 0x23b181170d0>],\n",
       " 'medians': [<matplotlib.lines.Line2D at 0x23b18117ee0>],\n",
       " 'fliers': [<matplotlib.lines.Line2D at 0x23b181221f0>],\n",
       " 'means': []}"
      ]
     },
     "execution_count": 11,
     "metadata": {},
     "output_type": "execute_result"
    },
    {
     "data": {
      "image/png": "[encoded data removed]",
      "text/plain": [
       "<Figure size 432x288 with 1 Axes>"
      ]
     },
     "metadata": {
      "needs_background": "light"
     },
     "output_type": "display_data"
    }
   ],
   "source": [
    "plt.boxplot(usedcars[\"year\"])"
   ]
  },
  {
   "cell_type": "code",
   "execution_count": 12,
   "id": "6a487d59",
   "metadata": {},
   "outputs": [
    {
     "data": {
      "text/plain": [
       "count    7906.000000\n",
       "mean     2013.983936\n",
       "std         3.863695\n",
       "min      1994.000000\n",
       "25%      2012.000000\n",
       "50%      2015.000000\n",
       "75%      2017.000000\n",
       "max      2020.000000\n",
       "Name: year, dtype: float64"
      ]
     },
     "execution_count": 12,
     "metadata": {},
     "output_type": "execute_result"
    }
   ],
   "source": [
    "usedcars[\"year\"].describe()"
   ]
  },
  {
   "cell_type": "code",
   "execution_count": 13,
   "id": "b1ffc186",
   "metadata": {},
   "outputs": [],
   "source": [
    "Sold = usedcars['sold'].value_counts()\n",
    "NoAmt = Sold[\"N\"]\n",
    "YesAmt = Sold[\"Y\"]\n",
    "SoldTotal = usedcars['sold'].count()\n",
    "NoPer = int(NoAmt/SoldTotal*100)/100\n",
    "YesPer = int(YesAmt/SoldTotal*100)/100"
   ]
  },
  {
   "cell_type": "code",
   "execution_count": 14,
   "id": "babb126f",
   "metadata": {},
   "outputs": [
    {
     "data": {
      "text/plain": [
       "'C:\\\\Users\\\\Money\\\\Desktop\\\\DataVisualizationFinals\\\\week7-4-pyechartsLiquid.html'"
      ]
     },
     "execution_count": 14,
     "metadata": {},
     "output_type": "execute_result"
    }
   ],
   "source": [
    "\n",
    "c = (\n",
    "    Liquid().add(\"% 2nd Hand Cars Not sold\", [NoPer,YesPer])\n",
    "    .set_global_opts(title_opts=opts.TitleOpts(title=\"Car sold Vs. not sold.\"))\n",
    ")\n",
    "\n",
    "c.render('./week7-4-pyechartsLiquid.html')"
   ]
  },
  {
   "cell_type": "code",
   "execution_count": null,
   "id": "ec26b94e",
   "metadata": {},
   "outputs": [],
   "source": []
  }
 ],
 "metadata": {
  "kernelspec": {
   "display_name": "Python 3 (ipykernel)",
   "language": "python",
   "name": "python3"
  },
  "language_info": {
   "codemirror_mode": {
    "name": "ipython",
    "version": 3
   },
   "file_extension": ".py",
   "mimetype": "text/x-python",
   "name": "python",
   "nbconvert_exporter": "python",
   "pygments_lexer": "ipython3",
   "version": "3.9.12"
  }
 },
 "nbformat": 4,
 "nbformat_minor": 5
}
